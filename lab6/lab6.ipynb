{
 "cells": [
  {
   "cell_type": "code",
   "execution_count": 1,
   "metadata": {},
   "outputs": [],
   "source": [
    "from itertools import permutations, product"
   ]
  },
  {
   "cell_type": "markdown",
   "metadata": {},
   "source": [
    "### Code"
   ]
  },
  {
   "cell_type": "code",
   "execution_count": 2,
   "metadata": {},
   "outputs": [],
   "source": [
    "class Transaction:\n",
    "    \n",
    "    def __init__(self, id, left, right):\n",
    "        self.id = id\n",
    "        self.left = left\n",
    "        self.right = right\n",
    "    \n",
    "    def __str__(self):\n",
    "        return self.id + \": \" + self.left + \" <- \" + \",\".join(self.right)\n",
    "    \n",
    "    def __repr__(self):\n",
    "        return self.id"
   ]
  },
  {
   "cell_type": "code",
   "execution_count": 3,
   "metadata": {},
   "outputs": [],
   "source": [
    "def generate_dependencies(transations):\n",
    "    return {\n",
    "        (a.id, b.id)\n",
    "        for a,b in product(transations, repeat=2)\n",
    "        if (b.left in a.right) or (a.left in b.right) or (a.id == b.id)\n",
    "    }"
   ]
  },
  {
   "cell_type": "code",
   "execution_count": 4,
   "metadata": {},
   "outputs": [],
   "source": [
    "def generate_independencies(transations):\n",
    "    return {\n",
    "        (a.id, b.id)\n",
    "        for a,b in product(transations, repeat=2)\n",
    "        if (b.left not in a.right) and (a.left not in b.right) and (a.id != b.id)\n",
    "    }"
   ]
  },
  {
   "cell_type": "code",
   "execution_count": 5,
   "metadata": {},
   "outputs": [],
   "source": [
    "def normal_form(word, transactions):\n",
    "    \n",
    "    stacks = {t.id: [] for t in transactions}\n",
    "    dependencies = generate_dependencies(transactions)\n",
    "    result = []\n",
    "    \n",
    "    # for each transaction in word form the end \n",
    "    for c in reversed(word):\n",
    "        \n",
    "        # for each stack\n",
    "        for t in stacks.keys():\n",
    "            if c == t:\n",
    "                stacks[c].append(c)\n",
    "            elif (c,t) in dependencies:\n",
    "                stacks[t].append(\"*\")\n",
    "    \n",
    "    # while not all stacks are empty\n",
    "    while any(stacks.values()):\n",
    "        \n",
    "        # gather all transaction in this slot\n",
    "        slot = []\n",
    "        for t in stacks.keys():\n",
    "            if stacks[t] and stacks[t][-1] != \"*\":\n",
    "                slot.append(t)\n",
    "                \n",
    "        # for each transaction in slot\n",
    "        for s in slot:\n",
    "            for t in stacks.keys():\n",
    "                if stacks[t] and (s,t) in dependencies:\n",
    "                    stacks[t].pop()\n",
    "        \n",
    "        result.append(slot)\n",
    "    \n",
    "    return result"
   ]
  },
  {
   "cell_type": "markdown",
   "metadata": {},
   "source": [
    "## Task 1\n",
    "---"
   ]
  },
  {
   "cell_type": "code",
   "execution_count": 6,
   "metadata": {},
   "outputs": [],
   "source": [
    "transactions1 = [\n",
    "    Transaction(\"a\", \"x\", [\"x\",\"y\"]),\n",
    "    Transaction(\"b\", \"y\", [\"y\",\"z\"]),\n",
    "    Transaction(\"c\", \"x\", [\"x\",\"z\"]),\n",
    "    Transaction(\"d\", \"z\", [\"y\",\"z\"])\n",
    "]\n",
    "word1 = [\"b\",\"a\",\"a\",\"d\",\"c\",\"b\"]"
   ]
  },
  {
   "cell_type": "markdown",
   "metadata": {},
   "source": [
    "### 1a - dependencies"
   ]
  },
  {
   "cell_type": "code",
   "execution_count": 7,
   "metadata": {
    "scrolled": true
   },
   "outputs": [
    {
     "data": {
      "text/plain": [
       "{('a', 'a'),\n",
       " ('a', 'b'),\n",
       " ('a', 'c'),\n",
       " ('b', 'a'),\n",
       " ('b', 'b'),\n",
       " ('b', 'd'),\n",
       " ('c', 'a'),\n",
       " ('c', 'c'),\n",
       " ('c', 'd'),\n",
       " ('d', 'b'),\n",
       " ('d', 'c'),\n",
       " ('d', 'd')}"
      ]
     },
     "execution_count": 7,
     "metadata": {},
     "output_type": "execute_result"
    }
   ],
   "source": [
    "generate_dependencies(transactions1)"
   ]
  },
  {
   "cell_type": "markdown",
   "metadata": {},
   "source": [
    "### 1a - independencies"
   ]
  },
  {
   "cell_type": "code",
   "execution_count": 8,
   "metadata": {},
   "outputs": [
    {
     "data": {
      "text/plain": [
       "{('a', 'd'), ('b', 'c'), ('c', 'b'), ('d', 'a')}"
      ]
     },
     "execution_count": 8,
     "metadata": {},
     "output_type": "execute_result"
    }
   ],
   "source": [
    "generate_independencies(transactions1)"
   ]
  },
  {
   "cell_type": "markdown",
   "metadata": {},
   "source": [
    "### 1c - normal form"
   ]
  },
  {
   "cell_type": "code",
   "execution_count": 9,
   "metadata": {},
   "outputs": [
    {
     "data": {
      "text/plain": [
       "[['b'], ['a', 'd'], ['a'], ['b', 'c']]"
      ]
     },
     "execution_count": 9,
     "metadata": {},
     "output_type": "execute_result"
    }
   ],
   "source": [
    "normal_form(word1, transactions1)"
   ]
  },
  {
   "cell_type": "markdown",
   "metadata": {},
   "source": [
    "## Task 2\n",
    "---"
   ]
  },
  {
   "cell_type": "code",
   "execution_count": 10,
   "metadata": {},
   "outputs": [],
   "source": [
    "transactions2 = [\n",
    "    Transaction(\"a\", \"x\", [\"y\",\"z\"]),\n",
    "    Transaction(\"b\", \"y\", [\"x\",\"w\",\"y\"]),\n",
    "    Transaction(\"c\", \"x\", [\"x\",\"y\",\"v\"]),\n",
    "    Transaction(\"d\", \"w\", [\"v\",\"z\"]),\n",
    "    Transaction(\"e\", \"v\", [\"x\",\"v\",\"w\"]),\n",
    "    Transaction(\"f\", \"z\", [\"y\",\"z\",\"v\"])\n",
    "]\n",
    "word2 = [\"a\",\"c\",\"d\",\"c\",\"f\",\"b\",\"b\",\"e\"]"
   ]
  },
  {
   "cell_type": "markdown",
   "metadata": {},
   "source": [
    "### 2a - dependencies"
   ]
  },
  {
   "cell_type": "code",
   "execution_count": 11,
   "metadata": {},
   "outputs": [
    {
     "data": {
      "text/plain": [
       "{('a', 'a'),\n",
       " ('a', 'b'),\n",
       " ('a', 'c'),\n",
       " ('a', 'e'),\n",
       " ('a', 'f'),\n",
       " ('b', 'a'),\n",
       " ('b', 'b'),\n",
       " ('b', 'c'),\n",
       " ('b', 'd'),\n",
       " ('b', 'f'),\n",
       " ('c', 'a'),\n",
       " ('c', 'b'),\n",
       " ('c', 'c'),\n",
       " ('c', 'e'),\n",
       " ('d', 'b'),\n",
       " ('d', 'd'),\n",
       " ('d', 'e'),\n",
       " ('d', 'f'),\n",
       " ('e', 'a'),\n",
       " ('e', 'c'),\n",
       " ('e', 'd'),\n",
       " ('e', 'e'),\n",
       " ('e', 'f'),\n",
       " ('f', 'a'),\n",
       " ('f', 'b'),\n",
       " ('f', 'd'),\n",
       " ('f', 'e'),\n",
       " ('f', 'f')}"
      ]
     },
     "execution_count": 11,
     "metadata": {},
     "output_type": "execute_result"
    }
   ],
   "source": [
    "generate_dependencies(transactions2)"
   ]
  },
  {
   "cell_type": "markdown",
   "metadata": {},
   "source": [
    "### 2a - independencies"
   ]
  },
  {
   "cell_type": "code",
   "execution_count": 12,
   "metadata": {},
   "outputs": [
    {
     "data": {
      "text/plain": [
       "{('a', 'd'),\n",
       " ('b', 'e'),\n",
       " ('c', 'd'),\n",
       " ('c', 'f'),\n",
       " ('d', 'a'),\n",
       " ('d', 'c'),\n",
       " ('e', 'b'),\n",
       " ('f', 'c')}"
      ]
     },
     "execution_count": 12,
     "metadata": {},
     "output_type": "execute_result"
    }
   ],
   "source": [
    "generate_independencies(transactions2)"
   ]
  },
  {
   "cell_type": "markdown",
   "metadata": {},
   "source": [
    "### 2b - normal form"
   ]
  },
  {
   "cell_type": "code",
   "execution_count": 13,
   "metadata": {},
   "outputs": [
    {
     "data": {
      "text/plain": [
       "[['a', 'd'], ['c', 'f'], ['c'], ['b', 'e'], ['b']]"
      ]
     },
     "execution_count": 13,
     "metadata": {},
     "output_type": "execute_result"
    }
   ],
   "source": [
    "normal_form(word2, transactions2)"
   ]
  }
 ],
 "metadata": {
  "kernelspec": {
   "display_name": "Python 3",
   "language": "python",
   "name": "python3"
  },
  "language_info": {
   "codemirror_mode": {
    "name": "ipython",
    "version": 3
   },
   "file_extension": ".py",
   "mimetype": "text/x-python",
   "name": "python",
   "nbconvert_exporter": "python",
   "pygments_lexer": "ipython3",
   "version": "3.6.5"
  }
 },
 "nbformat": 4,
 "nbformat_minor": 2
}
